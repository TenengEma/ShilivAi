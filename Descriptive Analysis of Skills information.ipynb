{
 "cells": [
  {
   "cell_type": "markdown",
   "id": "d5077a43-4789-4fb5-b40c-062b45825618",
   "metadata": {},
   "source": [
    "##Skills Information Dataset-Descriptive Analysis\n",
    "\n",
    "This note deals with skills information dataset containing responses from participants about programming skills,availability and interest"
   ]
  },
  {
   "cell_type": "markdown",
   "id": "f73eed76-9792-47a6-9e28-fa98661e42d9",
   "metadata": {},
   "source": [
    "**Data Loading and Initial Exploration**"
   ]
  },
  {
   "cell_type": "code",
   "execution_count": 27,
   "id": "379ca63c-ff63-4ea1-bd6d-79384294dbec",
   "metadata": {},
   "outputs": [
    {
     "name": "stdout",
     "output_type": "stream",
     "text": [
      "Requirement already satisfied: pandas in c:\\users\\emmanuela-t\\anaconda3\\lib\\site-packages (2.2.3)\n",
      "Requirement already satisfied: numpy in c:\\users\\emmanuela-t\\anaconda3\\lib\\site-packages (2.1.3)\n",
      "Requirement already satisfied: matplotlib in c:\\users\\emmanuela-t\\anaconda3\\lib\\site-packages (3.10.0)\n",
      "Requirement already satisfied: python-dateutil>=2.8.2 in c:\\users\\emmanuela-t\\anaconda3\\lib\\site-packages (from pandas) (2.9.0.post0)\n",
      "Requirement already satisfied: pytz>=2020.1 in c:\\users\\emmanuela-t\\anaconda3\\lib\\site-packages (from pandas) (2024.1)\n",
      "Requirement already satisfied: tzdata>=2022.7 in c:\\users\\emmanuela-t\\anaconda3\\lib\\site-packages (from pandas) (2025.2)\n",
      "Requirement already satisfied: contourpy>=1.0.1 in c:\\users\\emmanuela-t\\anaconda3\\lib\\site-packages (from matplotlib) (1.3.1)\n",
      "Requirement already satisfied: cycler>=0.10 in c:\\users\\emmanuela-t\\anaconda3\\lib\\site-packages (from matplotlib) (0.11.0)\n",
      "Requirement already satisfied: fonttools>=4.22.0 in c:\\users\\emmanuela-t\\anaconda3\\lib\\site-packages (from matplotlib) (4.55.3)\n",
      "Requirement already satisfied: kiwisolver>=1.3.1 in c:\\users\\emmanuela-t\\anaconda3\\lib\\site-packages (from matplotlib) (1.4.8)\n",
      "Requirement already satisfied: packaging>=20.0 in c:\\users\\emmanuela-t\\anaconda3\\lib\\site-packages (from matplotlib) (24.2)\n",
      "Requirement already satisfied: pillow>=8 in c:\\users\\emmanuela-t\\anaconda3\\lib\\site-packages (from matplotlib) (11.1.0)\n",
      "Requirement already satisfied: pyparsing>=2.3.1 in c:\\users\\emmanuela-t\\anaconda3\\lib\\site-packages (from matplotlib) (3.2.0)\n",
      "Requirement already satisfied: six>=1.5 in c:\\users\\emmanuela-t\\anaconda3\\lib\\site-packages (from python-dateutil>=2.8.2->pandas) (1.17.0)\n"
     ]
    }
   ],
   "source": [
    "!pip install pandas numpy matplotlib"
   ]
  },
  {
   "cell_type": "code",
   "execution_count": 10,
   "id": "016896ac-9e40-49ed-8646-d638312a0823",
   "metadata": {},
   "outputs": [],
   "source": [
    "import pandas as pd\n",
    "import numpy as np\n",
    "import matplotlib.pyplot as plt\n",
    "import seaborn as sns\n",
    "from collections import Counter\n",
    "import warnings\n",
    "warnings.filterwarnings('ignore')"
   ]
  },
  {
   "cell_type": "code",
   "execution_count": 14,
   "id": "b965f497-d1f0-4b7b-ba48-345e39e510d4",
   "metadata": {},
   "outputs": [],
   "source": [
    "df=pd.read_csv('Skills Information.csv')"
   ]
  },
  {
   "cell_type": "markdown",
   "id": "33d28632-e475-4a47-9cec-526422ad00fe",
   "metadata": {},
   "source": [
    "**Data Overview**"
   ]
  },
  {
   "cell_type": "code",
   "execution_count": 16,
   "id": "1ce65f56-1912-4622-950e-eb506f9bdd0a",
   "metadata": {},
   "outputs": [
    {
     "name": "stdout",
     "output_type": "stream",
     "text": [
      "Data loaded successfully!\n"
     ]
    }
   ],
   "source": [
    "print(\"Data loaded successfully!\")"
   ]
  },
  {
   "cell_type": "code",
   "execution_count": 15,
   "id": "e97b404f-6754-4fc5-87ea-02fa26b9d02f",
   "metadata": {},
   "outputs": [
    {
     "data": {
      "text/html": [
       "<div>\n",
       "<style scoped>\n",
       "    .dataframe tbody tr th:only-of-type {\n",
       "        vertical-align: middle;\n",
       "    }\n",
       "\n",
       "    .dataframe tbody tr th {\n",
       "        vertical-align: top;\n",
       "    }\n",
       "\n",
       "    .dataframe thead th {\n",
       "        text-align: right;\n",
       "    }\n",
       "</style>\n",
       "<table border=\"1\" class=\"dataframe\">\n",
       "  <thead>\n",
       "    <tr style=\"text-align: right;\">\n",
       "      <th></th>\n",
       "      <th>Timestamp</th>\n",
       "      <th>Full Name</th>\n",
       "      <th>What is your availability per week (in hours)?</th>\n",
       "      <th>Which programming languages do you feel most comfortable with?</th>\n",
       "      <th>Rate your proficiency in AI/ Machine learning (scikit-learn, TensorFlow, etc.)</th>\n",
       "      <th>Rate your proficiency in Data analysis (Pandas, NumPy, etc.)</th>\n",
       "      <th>Rate your proficiency in Network security /  Ethical hacking / penetration testing</th>\n",
       "      <th>Rate your proficiency in  Design UX / Graphics</th>\n",
       "      <th>Which domain(s) are you interested ?</th>\n",
       "      <th>Do you have any particular strengths or areas you'd like to develop more?</th>\n",
       "    </tr>\n",
       "  </thead>\n",
       "  <tbody>\n",
       "    <tr>\n",
       "      <th>0</th>\n",
       "      <td>2025/06/30 8:36:06 PM GMT+3</td>\n",
       "      <td>Ankiambom Melchisedech Awosang</td>\n",
       "      <td>5h</td>\n",
       "      <td>Python;React (Java Script)</td>\n",
       "      <td>3</td>\n",
       "      <td>4</td>\n",
       "      <td>2</td>\n",
       "      <td>2</td>\n",
       "      <td>AI;Data Science</td>\n",
       "      <td>AI;Data Science;Apps Development;Cybersecurity</td>\n",
       "    </tr>\n",
       "    <tr>\n",
       "      <th>1</th>\n",
       "      <td>2025/06/30 8:43:03 PM GMT+3</td>\n",
       "      <td>Teneng Emmanuela</td>\n",
       "      <td>2h</td>\n",
       "      <td>React (Java Script)</td>\n",
       "      <td>2</td>\n",
       "      <td>2</td>\n",
       "      <td>4</td>\n",
       "      <td>4</td>\n",
       "      <td>AI;Data Science;Cybersecurity</td>\n",
       "      <td>AI;Data Science;Cybersecurity</td>\n",
       "    </tr>\n",
       "    <tr>\n",
       "      <th>2</th>\n",
       "      <td>2025/07/04 9:29:38 AM GMT+3</td>\n",
       "      <td>NaN</td>\n",
       "      <td>8</td>\n",
       "      <td>R</td>\n",
       "      <td>2</td>\n",
       "      <td>5</td>\n",
       "      <td>1</td>\n",
       "      <td>1</td>\n",
       "      <td>Data Science</td>\n",
       "      <td>Data Science</td>\n",
       "    </tr>\n",
       "    <tr>\n",
       "      <th>3</th>\n",
       "      <td>2025/07/04 1:43:08 PM GMT+3</td>\n",
       "      <td>NaN</td>\n",
       "      <td>2h</td>\n",
       "      <td>R</td>\n",
       "      <td>1</td>\n",
       "      <td>1</td>\n",
       "      <td>1</td>\n",
       "      <td>1</td>\n",
       "      <td>AI;Data Science</td>\n",
       "      <td>AI;Data Science</td>\n",
       "    </tr>\n",
       "    <tr>\n",
       "      <th>4</th>\n",
       "      <td>2025/07/07 9:29:02 PM GMT+3</td>\n",
       "      <td>REYHAN EBAI ENOWNJOCK OJONG KUKAH</td>\n",
       "      <td>5h</td>\n",
       "      <td>Python</td>\n",
       "      <td>1</td>\n",
       "      <td>1</td>\n",
       "      <td>1</td>\n",
       "      <td>2</td>\n",
       "      <td>AI;Apps Development</td>\n",
       "      <td>AI;Apps Development</td>\n",
       "    </tr>\n",
       "  </tbody>\n",
       "</table>\n",
       "</div>"
      ],
      "text/plain": [
       "                     Timestamp                          Full Name   \\\n",
       "0  2025/06/30 8:36:06 PM GMT+3     Ankiambom Melchisedech Awosang    \n",
       "1  2025/06/30 8:43:03 PM GMT+3                    Teneng Emmanuela   \n",
       "2  2025/07/04 9:29:38 AM GMT+3                                 NaN   \n",
       "3  2025/07/04 1:43:08 PM GMT+3                                 NaN   \n",
       "4  2025/07/07 9:29:02 PM GMT+3  REYHAN EBAI ENOWNJOCK OJONG KUKAH    \n",
       "\n",
       "  What is your availability per week (in hours)?    \\\n",
       "0                                               5h   \n",
       "1                                               2h   \n",
       "2                                                8   \n",
       "3                                               2h   \n",
       "4                                               5h   \n",
       "\n",
       "  Which programming languages do you feel most comfortable with?    \\\n",
       "0                         Python;React (Java Script)                 \n",
       "1                                React (Java Script)                 \n",
       "2                                                  R                 \n",
       "3                                                  R                 \n",
       "4                                             Python                 \n",
       "\n",
       "   Rate your proficiency in AI/ Machine learning (scikit-learn, TensorFlow, etc.)      \\\n",
       "0                                                  3                                    \n",
       "1                                                  2                                    \n",
       "2                                                  2                                    \n",
       "3                                                  1                                    \n",
       "4                                                  1                                    \n",
       "\n",
       "   Rate your proficiency in Data analysis (Pandas, NumPy, etc.)   \\\n",
       "0                                                  4               \n",
       "1                                                  2               \n",
       "2                                                  5               \n",
       "3                                                  1               \n",
       "4                                                  1               \n",
       "\n",
       "   Rate your proficiency in Network security /  Ethical hacking / penetration testing   \\\n",
       "0                                                  2                                     \n",
       "1                                                  4                                     \n",
       "2                                                  1                                     \n",
       "3                                                  1                                     \n",
       "4                                                  1                                     \n",
       "\n",
       "   Rate your proficiency in  Design UX / Graphics  \\\n",
       "0                                               2   \n",
       "1                                               4   \n",
       "2                                               1   \n",
       "3                                               1   \n",
       "4                                               2   \n",
       "\n",
       "  Which domain(s) are you interested ?    \\\n",
       "0                        AI;Data Science   \n",
       "1          AI;Data Science;Cybersecurity   \n",
       "2                           Data Science   \n",
       "3                        AI;Data Science   \n",
       "4                    AI;Apps Development   \n",
       "\n",
       "  Do you have any particular strengths or areas you'd like to develop more?    \n",
       "0     AI;Data Science;Apps Development;Cybersecurity                           \n",
       "1                      AI;Data Science;Cybersecurity                           \n",
       "2                                       Data Science                           \n",
       "3                                    AI;Data Science                           \n",
       "4                                AI;Apps Development                           "
      ]
     },
     "execution_count": 15,
     "metadata": {},
     "output_type": "execute_result"
    }
   ],
   "source": [
    "data.head()"
   ]
  },
  {
   "cell_type": "markdown",
   "id": "fce21d38-8a00-49d7-9be2-1c9d5fa0fb17",
   "metadata": {},
   "source": [
    "**Display basic information about the data(data types,non-null counts)**"
   ]
  },
  {
   "cell_type": "code",
   "execution_count": 17,
   "id": "8e0ad698-138f-47da-abf4-8080a9064977",
   "metadata": {},
   "outputs": [
    {
     "name": "stdout",
     "output_type": "stream",
     "text": [
      "\n",
      "DataFrame Info:\n",
      "<class 'pandas.core.frame.DataFrame'>\n",
      "RangeIndex: 8 entries, 0 to 7\n",
      "Data columns (total 10 columns):\n",
      " #   Column                                                                               Non-Null Count  Dtype \n",
      "---  ------                                                                               --------------  ----- \n",
      " 0   Timestamp                                                                            8 non-null      object\n",
      " 1   Full Name                                                                            6 non-null      object\n",
      " 2   What is your availability per week (in hours)?                                       8 non-null      object\n",
      " 3   Which programming languages do you feel most comfortable with?                       8 non-null      object\n",
      " 4   Rate your proficiency in AI/ Machine learning (scikit-learn, TensorFlow, etc.)       8 non-null      int64 \n",
      " 5   Rate your proficiency in Data analysis (Pandas, NumPy, etc.)                         8 non-null      int64 \n",
      " 6   Rate your proficiency in Network security /  Ethical hacking / penetration testing   8 non-null      int64 \n",
      " 7   Rate your proficiency in  Design UX / Graphics                                       8 non-null      int64 \n",
      " 8   Which domain(s) are you interested ?                                                 8 non-null      object\n",
      " 9   Do you have any particular strengths or areas you'd like to develop more?            8 non-null      object\n",
      "dtypes: int64(4), object(6)\n",
      "memory usage: 772.0+ bytes\n",
      "None\n"
     ]
    }
   ],
   "source": [
    "print(\"\\nDataFrame Info:\")\n",
    "print(df.info())"
   ]
  },
  {
   "cell_type": "markdown",
   "id": "f3db113d-a568-43a4-8304-38e0be028d9e",
   "metadata": {},
   "source": [
    "**Data Cleaning**\n",
    "\n",
    "checks for missing values and clean the data if necessary"
   ]
  },
  {
   "cell_type": "code",
   "execution_count": 6,
   "id": "e1c75c30-9bd4-465d-9296-f82383c06967",
   "metadata": {},
   "outputs": [
    {
     "data": {
      "text/plain": [
       "Full Name     2\n",
       "dtype: int64"
      ]
     },
     "execution_count": 6,
     "metadata": {},
     "output_type": "execute_result"
    }
   ],
   "source": [
    "missing_values=data.isnull().sum()\n",
    "\n",
    "#Display missing values\n",
    "missing_values[missing_values>0]"
   ]
  },
  {
   "cell_type": "markdown",
   "id": "5fe7d5d2-2fe4-4401-9d42-c629db6fe430",
   "metadata": {},
   "source": [
    "**Descriptive Statistics for Numerical Columns**\n",
    "\n",
    "-Count\n",
    "-Mean\n",
    "-Standard Deviation\n",
    "-Minimum\n",
    "-Maximum\n",
    "-Quartile values"
   ]
  },
  {
   "cell_type": "code",
   "execution_count": 20,
   "id": "28d76466-b12c-4ea6-8cf5-3e79413e9284",
   "metadata": {},
   "outputs": [
    {
     "name": "stdout",
     "output_type": "stream",
     "text": [
      "\n",
      "Descriptive statistics for Numerical columns:\n",
      "       Rate your proficiency in AI/ Machine learning (scikit-learn, TensorFlow, etc.)      \\\n",
      "count                                           8.000000                                    \n",
      "mean                                            2.000000                                    \n",
      "std                                             1.414214                                    \n",
      "min                                             1.000000                                    \n",
      "25%                                             1.000000                                    \n",
      "50%                                             1.500000                                    \n",
      "75%                                             2.250000                                    \n",
      "max                                             5.000000                                    \n",
      "\n",
      "       Rate your proficiency in Data analysis (Pandas, NumPy, etc.)   \\\n",
      "count                                           8.000000               \n",
      "mean                                            2.625000               \n",
      "std                                             2.065879               \n",
      "min                                             1.000000               \n",
      "25%                                             1.000000               \n",
      "50%                                             1.500000               \n",
      "75%                                             4.250000               \n",
      "max                                             6.000000               \n",
      "\n",
      "       Rate your proficiency in Network security /  Ethical hacking / penetration testing   \\\n",
      "count                                           8.000000                                     \n",
      "mean                                            1.500000                                     \n",
      "std                                             1.069045                                     \n",
      "min                                             1.000000                                     \n",
      "25%                                             1.000000                                     \n",
      "50%                                             1.000000                                     \n",
      "75%                                             1.250000                                     \n",
      "max                                             4.000000                                     \n",
      "\n",
      "       Rate your proficiency in  Design UX / Graphics  \n",
      "count                                        8.000000  \n",
      "mean                                         1.875000  \n",
      "std                                          1.125992  \n",
      "min                                          1.000000  \n",
      "25%                                          1.000000  \n",
      "50%                                          1.500000  \n",
      "75%                                          2.250000  \n",
      "max                                          4.000000  \n"
     ]
    }
   ],
   "source": [
    "print(\"\\nDescriptive statistics for Numerical columns:\")\n",
    "\n",
    "print(df.describe())\n"
   ]
  },
  {
   "cell_type": "markdown",
   "id": "28dea06f-980c-4069-a715-6f07993cec11",
   "metadata": {},
   "source": [
    "**Value counts for categorical columns**\n",
    "\n",
    "-This iterates through all abject type columns which are typically categorical and prints the frequency of each unique value"
   ]
  },
  {
   "cell_type": "code",
   "execution_count": 26,
   "id": "8ae3fc70-e385-4b9c-a18e-8aa60a1a5f30",
   "metadata": {},
   "outputs": [
    {
     "name": "stdout",
     "output_type": "stream",
     "text": [
      "\n",
      "Value Counts for Categorical Columns:\n",
      "\n",
      "---Timestamp---\n",
      "Timestamp\n",
      "2025/06/30 8:36:06 PM GMT+3     1\n",
      "2025/06/30 8:43:03 PM GMT+3     1\n",
      "2025/07/04 9:29:38 AM GMT+3     1\n",
      "2025/07/04 1:43:08 PM GMT+3     1\n",
      "2025/07/07 9:29:02 PM GMT+3     1\n",
      "2025/07/09 10:49:37 PM GMT+3    1\n",
      "2025/07/09 11:12:37 PM GMT+3    1\n",
      "2025/07/09 11:15:24 PM GMT+3    1\n",
      "Name: count, dtype: int64\n",
      "\n",
      "---Full Name ---\n",
      "Full Name \n",
      "Ankiambom Melchisedech Awosang        1\n",
      "Teneng Emmanuela                      1\n",
      "REYHAN EBAI ENOWNJOCK OJONG KUKAH     1\n",
      "Kongnyuy Pierette Nyuykonge           1\n",
      "Tiayah Patience                       1\n",
      "MUHAMMADU BELLO                       1\n",
      "Name: count, dtype: int64\n",
      "\n",
      "---What is your availability per week (in hours)?  ---\n",
      "What is your availability per week (in hours)?  \n",
      "5h    3\n",
      "2h    3\n",
      "8     1\n",
      "3h    1\n",
      "Name: count, dtype: int64\n",
      "\n",
      "---Which programming languages do you feel most comfortable with?  ---\n",
      "Which programming languages do you feel most comfortable with?  \n",
      "R                                3\n",
      "Python;React (Java Script)       1\n",
      "React (Java Script)              1\n",
      "Python                           1\n",
      "A beginner                       1\n",
      "Python;React (Java Script);R;    1\n",
      "Name: count, dtype: int64\n",
      "\n",
      "---Which domain(s) are you interested ?  ---\n",
      "Which domain(s) are you interested ?  \n",
      "AI;Data Science                     2\n",
      "AI;Data Science;Apps Development    2\n",
      "AI;Data Science;Cybersecurity       1\n",
      "Data Science                        1\n",
      "AI;Apps Development                 1\n",
      "Cybersecurity                       1\n",
      "Name: count, dtype: int64\n",
      "\n",
      "---Do you have any particular strengths or areas you'd like to develop more?  ---\n",
      "Do you have any particular strengths or areas you'd like to develop more?  \n",
      "AI;Data Science                                   2\n",
      "AI;Data Science;Apps Development;Cybersecurity    1\n",
      "AI;Data Science;Cybersecurity                     1\n",
      "Data Science                                      1\n",
      "AI;Apps Development                               1\n",
      "Cybersecurity                                     1\n",
      "AI;Data Science;Data analysis                     1\n",
      "Name: count, dtype: int64\n"
     ]
    }
   ],
   "source": [
    "print(\"\\nValue Counts for Categorical Columns:\")\n",
    "for columns in df.select_dtypes(include='object').columns:\n",
    "    print(f\"\\n---{columns}---\")\n",
    "    print(df[columns].value_counts())"
   ]
  },
  {
   "cell_type": "code",
   "execution_count": 30,
   "id": "3bad24df-a730-46e6-b2e4-e9b16ce8adaa",
   "metadata": {},
   "outputs": [
    {
     "ename": "SyntaxError",
     "evalue": "invalid syntax (470541111.py, line 2)",
     "output_type": "error",
     "traceback": [
      "\u001b[1;36m  Cell \u001b[1;32mIn[30], line 2\u001b[1;36m\u001b[0m\n\u001b[1;33m    for col in df.select_dtypes(include='object').columns::\u001b[0m\n\u001b[1;37m                                                          ^\u001b[0m\n\u001b[1;31mSyntaxError\u001b[0m\u001b[1;31m:\u001b[0m invalid syntax\n"
     ]
    }
   ],
   "source": [
    "print(\"n---Numerical Column statistics(Range,Mode,Average)---\")\n",
    "for col in df.select_dtypes(include='object').columns::\n",
    "    print(f\"\\nColumn:{col}\")\n",
    "\n",
    "data_range=df[col].max()-df[col].min()\n",
    "print(f\"Range:{data_range}\")\n",
    "\n",
    "data_mode=df[col].mode().tolist()\n",
    "print(f\"Mode:{data_mode}\")\n",
    "\n",
    "data_average = df[col].mean()\n",
    "print(f\"Average (Mean):{data_average:2f}\")"
   ]
  },
  {
   "cell_type": "code",
   "execution_count": null,
   "id": "ae84c1cf-2310-417e-8885-37f24dc08371",
   "metadata": {},
   "outputs": [],
   "source": []
  }
 ],
 "metadata": {
  "kernelspec": {
   "display_name": "Python 3 (ipykernel)",
   "language": "python",
   "name": "python3"
  },
  "language_info": {
   "codemirror_mode": {
    "name": "ipython",
    "version": 3
   },
   "file_extension": ".py",
   "mimetype": "text/x-python",
   "name": "python",
   "nbconvert_exporter": "python",
   "pygments_lexer": "ipython3",
   "version": "3.13.5"
  }
 },
 "nbformat": 4,
 "nbformat_minor": 5
}
