{
 "cells": [
  {
   "cell_type": "markdown",
   "id": "37088a07-b283-4753-96ce-5c2e413d89b7",
   "metadata": {},
   "source": [
    "# Python Basics By Teneng\n",
    "\n",
    "wecome to my implimentation of the python basics,THis notebook covers all fundermental python concepts with practical examples\n",
    "\n",
    "## What you'll learn\n",
    "-Input/Ouput operations\n",
    "-Pyhon data types and variables\n",
    "-Control flow and loops\n",
    "-Functions and exceptions handling\n",
    "-Data structures and final project"
   ]
  },
  {
   "cell_type": "markdown",
   "id": "816014e5-cc79-46da-bdc6-cd0da8d89eb7",
   "metadata": {},
   "source": [
    "## Section 1: Input & Output\n",
    "-get user input using 'input()' function\n",
    "-Display output using 'print()' function\n",
    "-Use f-strings for formatted output\n",
    "-Handle different input types"
   ]
  },
  {
   "cell_type": "code",
   "execution_count": 1,
   "id": "6413ea6d-9047-4038-a75c-be24550bd733",
   "metadata": {},
   "outputs": [
    {
     "name": "stdin",
     "output_type": "stream",
     "text": [
      " Ella\n",
      "Your name please: ella\n"
     ]
    }
   ],
   "source": [
    "name=input()\n",
    "name=input(\"Your name please:\")"
   ]
  },
  {
   "cell_type": "code",
   "execution_count": 2,
   "id": "be71e503-1f22-42ff-9292-e248ad6bbe21",
   "metadata": {},
   "outputs": [
    {
     "name": "stdout",
     "output_type": "stream",
     "text": [
      "Hello, World\n"
     ]
    }
   ],
   "source": [
    "print(\"Hello, World\")"
   ]
  },
  {
   "cell_type": "code",
   "execution_count": 3,
   "id": "11f444e1-ea9a-4fe3-8d24-ad05622d1293",
   "metadata": {},
   "outputs": [
    {
     "name": "stdout",
     "output_type": "stream",
     "text": [
      "I hope you are enjoying this workshop,ella!\n"
     ]
    }
   ],
   "source": [
    "print(\"I hope you are enjoying this workshop,\" +name + \"!\")"
   ]
  },
  {
   "cell_type": "markdown",
   "id": "06bd841e-65be-4c49-bf70-6ed26587e894",
   "metadata": {},
   "source": [
    "An f-string short for formatted string is a modern way to embed variables and expressions directly into strings"
   ]
  },
  {
   "cell_type": "code",
   "execution_count": 4,
   "id": "0bc1f13a-f417-4ee1-9599-24fb93bff284",
   "metadata": {},
   "outputs": [
    {
     "name": "stdout",
     "output_type": "stream",
     "text": [
      "Hello, Ella!\n"
     ]
    }
   ],
   "source": [
    "name=\"Ella\"\n",
    "print (f\"Hello, {name}!\")"
   ]
  },
  {
   "cell_type": "code",
   "execution_count": 6,
   "id": "dbfe7e0d-f52b-459f-8996-02fda556169e",
   "metadata": {},
   "outputs": [
    {
     "name": "stdout",
     "output_type": "stream",
     "text": [
      "I hope you are enjoying this workshop, Ella!\n"
     ]
    }
   ],
   "source": [
    "print(f\"I hope you are enjoying this workshop, {name}!\")"
   ]
  },
  {
   "cell_type": "markdown",
   "id": "984f5688-c955-413c-9f7d-a0f335a59d3d",
   "metadata": {},
   "source": [
    "#f-string vs Concatenation"
   ]
  },
  {
   "cell_type": "markdown",
   "id": "5698f011-f7c9-4f71-9e43-8a40fadec3e4",
   "metadata": {},
   "source": [
    "With concatenation you must convert non string variables manually"
   ]
  },
  {
   "cell_type": "code",
   "execution_count": 10,
   "id": "ea900409-57df-4ead-a080-1dc270659412",
   "metadata": {},
   "outputs": [
    {
     "name": "stdout",
     "output_type": "stream",
     "text": [
      "Age:25\n"
     ]
    }
   ],
   "source": [
    "age=25\n",
    "print(\"Age:\" + str(age))"
   ]
  },
  {
   "cell_type": "markdown",
   "id": "8073d392-047c-4f21-a4ac-47e438c76ff2",
   "metadata": {},
   "source": [
    "But with f-string python does the conversion for you"
   ]
  },
  {
   "cell_type": "code",
   "execution_count": 11,
   "id": "a38ad68b-9e14-423b-8d56-c6c37c95e803",
   "metadata": {},
   "outputs": [
    {
     "name": "stdout",
     "output_type": "stream",
     "text": [
      "Age:25\n"
     ]
    }
   ],
   "source": [
    "age=25\n",
    "print(f\"Age:{age}\")"
   ]
  },
  {
   "cell_type": "markdown",
   "id": "1d2cf58f-d962-4e2c-bb4b-8bbddf48d973",
   "metadata": {},
   "source": [
    "## Section 2: Data Types\n",
    "python has several built-in data types. \n",
    "\n",
    "-Text types str\n",
    "-Numeric types (int, float, complex)\n",
    "-sequence types (list, tuple, range)\n",
    "-mapping type (dict)\n",
    "-set types (set, frozenset)\n",
    "-Bolean type(bool)\n",
    "-binary types (bytes, bytearray, memoryview)\n",
    "-none type (NonType)"
   ]
  },
  {
   "cell_type": "code",
   "execution_count": 12,
   "id": "8f30525d-84e0-423d-9d1e-52cc84c1d699",
   "metadata": {},
   "outputs": [
    {
     "name": "stdout",
     "output_type": "stream",
     "text": [
      "x:5 (type:<class 'int'>\n"
     ]
    }
   ],
   "source": [
    "x=5\n",
    "y=3.14\n",
    "z=\"Hello\"\n",
    "print(f\"x:{x} (type:{type(x)}\")"
   ]
  },
  {
   "cell_type": "markdown",
   "id": "59b8ad5a-cf3d-499b-9703-25aa2681b8a2",
   "metadata": {},
   "source": [
    "**Setting specific data types**\n",
    "\n",
    "You can do this using constructors like int(),str(),list(),etc"
   ]
  },
  {
   "cell_type": "code",
   "execution_count": 13,
   "id": "808fc235-8cba-4ec2-ac39-19e055e87e0f",
   "metadata": {},
   "outputs": [],
   "source": [
    "x=str(123\n",
    "x=list((\"paris\",\"London\",\"Tokyo\"))"
   ]
  },
  {
   "cell_type": "markdown",
   "id": "b977bb5c-8901-4976-8cbd-1c46cd794c84",
   "metadata": {},
   "source": [
    "**Converting input to integer**"
   ]
  },
  {
   "cell_type": "code",
   "execution_count": null,
   "id": "b99508d9-ec90-4607-abea-32c9ed89e72d",
   "metadata": {},
   "outputs": [],
   "source": [
    "age=int(input(\"Enter your age:\"))\n",
    "print(f\"In 5 years you will be {age +5} years old.\")"
   ]
  },
  {
   "cell_type": "markdown",
   "id": "2f743842-b2d4-4661-9875-3f0ce16d1279",
   "metadata": {},
   "source": [
    "**Python Indentation**\n",
    "\n",
    "In python, indentation is mandatory.it defines the lines of code belong together\n",
    "Other languages use symbols like {} or end but python uses **whitespace**"
   ]
  },
  {
   "cell_type": "code",
   "execution_count": 15,
   "id": "2f60546a-36d7-40cf-97d2-0fc8366f3d6e",
   "metadata": {},
   "outputs": [
    {
     "name": "stdout",
     "output_type": "stream",
     "text": [
      "you passed!\n"
     ]
    }
   ],
   "source": [
    "score=85\n",
    "if score>=60:\n",
    "    print(\"you passed!\")"
   ]
  },
  {
   "cell_type": "code",
   "execution_count": null,
   "id": "e5eff6e3-d5ac-4532-bca3-cb20f0d3e087",
   "metadata": {},
   "outputs": [],
   "source": [
    "username=\"admin\"\n",
    "password=\"1234\"\n",
    "\n",
    "if username==\"admin\":\n",
    "    print(\"Welcome,admin!\")\n",
    "    if password==\"1234\":\n",
    "        print(\"Acess granted.\")"
   ]
  },
  {
   "cell_type": "markdown",
   "id": "092ec623-c992-4dc2-9bce-906ed9d62ebc",
   "metadata": {},
   "source": [
    "**Comments**\n",
    "1.Single-line comments\n",
    "Singler-line comments start with a **#** "
   ]
  },
  {
   "cell_type": "code",
   "execution_count": 17,
   "id": "26c0a199-6aac-4c90-a230-5ebc21ffe4cd",
   "metadata": {},
   "outputs": [
    {
     "name": "stdout",
     "output_type": "stream",
     "text": [
      "Hello, World\n"
     ]
    }
   ],
   "source": [
    "#This is a single-line comment\n",
    "print(\"Hello, World\")"
   ]
  },
  {
   "cell_type": "markdown",
   "id": "0133455c-a97d-499a-80a6-a548d9c880a4",
   "metadata": {},
   "source": [
    "2.Multi-line comments\n",
    "    You can use triple quotes **'''...''' or \"\"\"...\"\"\"**"
   ]
  },
  {
   "cell_type": "code",
   "execution_count": 18,
   "id": "6e70e78d-cce3-476d-b0bf-6149fb2c01d3",
   "metadata": {},
   "outputs": [
    {
     "name": "stdout",
     "output_type": "stream",
     "text": [
      "Hi Ella\n"
     ]
    }
   ],
   "source": [
    "\"\"\"print(\"Hi!\")\n",
    "print(\"I am Ella, a cyber security nurd\")\n",
    "\"\"\"\n",
    "print(\"Hi Ella\")"
   ]
  },
  {
   "cell_type": "markdown",
   "id": "1205ab92-5306-4bfb-9e76-4b8aee1a83d8",
   "metadata": {},
   "source": [
    "**Python Variables**\n",
    "In Python, you don’t need to declare variables or define their type.\n",
    "A variable is created automatically when you assign a value to it.\n",
    "\n",
    "**✍️ Assigning Values to Variables**"
   ]
  },
  {
   "cell_type": "code",
   "execution_count": 1,
   "id": "a5d1e880-4311-46f0-93f3-69c6e65023e8",
   "metadata": {},
   "outputs": [],
   "source": [
    "x = 5 # Integer\n",
    "y = 5.0 # Float\n",
    "z = \"Hello, Python!\" # String\n",
    "w = 1j # Complex number\n",
    "h = 2 + 4j # Another complex number"
   ]
  },
  {
   "cell_type": "markdown",
   "id": "9ccefb9b-72d3-4285-82c3-ddf1fc6d787a",
   "metadata": {},
   "source": [
    "🔍 **Checking Variable Types**"
   ]
  },
  {
   "cell_type": "code",
   "execution_count": 2,
   "id": "d73b1d2c-14ae-4e89-9624-9d27eee92933",
   "metadata": {},
   "outputs": [
    {
     "name": "stdout",
     "output_type": "stream",
     "text": [
      "<class 'int'>\n",
      "<class 'float'>\n",
      "<class 'str'>\n",
      "<class 'complex'>\n",
      "<class 'complex'>\n"
     ]
    }
   ],
   "source": [
    "print(type(x))\n",
    "print(type(y))\n",
    "print(type(z))\n",
    "print(type(w))\n",
    "print(type(h))"
   ]
  },
  {
   "cell_type": "markdown",
   "id": "66e74519-e9bf-42e1-a5db-7ac75bc3bb30",
   "metadata": {},
   "source": [
    "🔄 **Type Casting**\n",
    "\n",
    "Sometimes, you may want to convert a variable from one data type to another.\n",
    "This is called casting, and Python provides built-in functions to do it:\n",
    "str() – converts to string\n",
    "int() – converts to integer\n",
    "float() – converts to float ### 🔹 Example:"
   ]
  },
  {
   "cell_type": "code",
   "execution_count": 3,
   "id": "ecabc65d-877f-47ef-a015-ec0d3604d40d",
   "metadata": {},
   "outputs": [
    {
     "name": "stdout",
     "output_type": "stream",
     "text": [
      "x:=3 , y:=3 ,z:=3.0\n"
     ]
    }
   ],
   "source": [
    "x = str(3) \n",
    "y = int(3.7) \n",
    "z = float(3) \n",
    "print(f\"x:={x} , y:={y} ,z:={z}\")"
   ]
  },
  {
   "cell_type": "markdown",
   "id": "31f021b9-21b7-4c18-bb97-7194cf8d05d0",
   "metadata": {},
   "source": [
    "🏷️ **Variable Names**\n",
    "\n",
    "In Python, a variable can have a short name (like x or a ) or a more descriptive one (like\n",
    "user_age , car_model , or total_volume ).\n",
    "🧾 Rules for Naming Variables:\n",
    "✅ Must start with a letter (A–Z, a–z) or an underscore _\n",
    "❌ Cannot start with a number\n",
    "✅ Can contain letters, numbers, and underscores only ( A–Z , 0–9 , _ )\n",
    "❌ Cannot contain spaces or special characters (like - , @ , ! , etc.)\n",
    "🔠 Are case-sensitive: user , User , and USER are different variables\n"
   ]
  },
  {
   "cell_type": "markdown",
   "id": "436bf748-fa56-446a-94ab-a0761eeb2f98",
   "metadata": {},
   "source": [
    "✔️ **Valid Variable Names**"
   ]
  },
  {
   "cell_type": "code",
   "execution_count": 4,
   "id": "ff9b0726-3802-4e2b-bc02-884a60786ee1",
   "metadata": {},
   "outputs": [],
   "source": [
    "first_name = \"Heni\"\n",
    "_user_name = \"Walha\"\n",
    "user1 = \"admin\"\n",
    "UserName = \"henidata\"\n",
    "USER = \"admin\"\n",
    "temperature_celsius = 23.5"
   ]
  },
  {
   "cell_type": "markdown",
   "id": "37070222-0a57-4823-a2e5-bbb0a859caee",
   "metadata": {},
   "source": [
    "❌ **Invalid Variable Names**"
   ]
  },
  {
   "cell_type": "code",
   "execution_count": 5,
   "id": "1b52527a-9f0f-43ad-97b5-0e6c8e13a24c",
   "metadata": {},
   "outputs": [
    {
     "ename": "SyntaxError",
     "evalue": "invalid decimal literal (3044729762.py, line 1)",
     "output_type": "error",
     "traceback": [
      "\u001b[1;36m  Cell \u001b[1;32mIn[5], line 1\u001b[1;36m\u001b[0m\n\u001b[1;33m    2user = \"invalid\"\u001b[0m\n\u001b[1;37m    ^\u001b[0m\n\u001b[1;31mSyntaxError\u001b[0m\u001b[1;31m:\u001b[0m invalid decimal literal\n"
     ]
    }
   ],
   "source": [
    "2user = \"invalid\" \n",
    "user-name = \"invalid\""
   ]
  },
  {
   "cell_type": "markdown",
   "id": "98b94a2c-869c-41bd-98a4-ffac13d395a2",
   "metadata": {},
   "source": [
    "🌐 **Global Variables**\n",
    "\n",
    "In Python, any variable declared outside a function is considered global.\n",
    "You can use global variables both inside and outside functions."
   ]
  },
  {
   "cell_type": "markdown",
   "id": "502c7e2c-28cf-4f34-892a-25529c23da33",
   "metadata": {},
   "source": [
    "**Example: Accessing a global variable from inside a\n",
    "function**"
   ]
  },
  {
   "cell_type": "code",
   "execution_count": 7,
   "id": "977abcb1-b2a5-4235-a9c3-280632d8f309",
   "metadata": {},
   "outputs": [
    {
     "name": "stdout",
     "output_type": "stream",
     "text": [
      "My favorite language is Python\n"
     ]
    }
   ],
   "source": [
    "language = \"Python\"\n",
    "def show_language():\n",
    "     print(\"My favorite language is \" + language)\n",
    "show_language()"
   ]
  },
  {
   "cell_type": "markdown",
   "id": "7f040d69-81cf-4711-9ca1-59f285ee03a7",
   "metadata": {},
   "source": [
    "**Example: Local variable with the same name (scope\n",
    "shadowing)**"
   ]
  },
  {
   "cell_type": "code",
   "execution_count": 8,
   "id": "a717f055-3855-4e7b-b81b-f8f3d5acbeb5",
   "metadata": {},
   "outputs": [
    {
     "name": "stdout",
     "output_type": "stream",
     "text": [
      "Inside the function: JavaScript\n",
      "Outside the function: Python\n"
     ]
    }
   ],
   "source": [
    "language = \"Python\"\n",
    "def show_language():\n",
    "    language = \"JavaScript\"\n",
    "    print(\"Inside the function: \" + language)\n",
    "show_language()\n",
    "print(\"Outside the function: \" + language)"
   ]
  },
  {
   "cell_type": "markdown",
   "id": "f66adb43-8337-4609-bdf9-8cf45ba6d133",
   "metadata": {},
   "source": [
    "🌍 **The global Keyword**\n",
    "\n",
    "By default, variables created inside a function are local to that function.\n",
    "They exist only during the function’s execution and don’t affect variables outside the\n",
    "function.\n",
    "However, if you want to modify a global variable from inside a function, you must use\n",
    "the global keyword."
   ]
  },
  {
   "cell_type": "markdown",
   "id": "25905db2-8f6c-4cd1-9d46-fb2faf2d6244",
   "metadata": {},
   "source": [
    "**Example: Updating a global variable from inside a function\n",
    "online**"
   ]
  },
  {
   "cell_type": "code",
   "execution_count": 13,
   "id": "5d0a07f5-24cd-4919-93a6-c966f88a8c1d",
   "metadata": {},
   "outputs": [],
   "source": [
    "status = \"offline\"\n",
    "def toggle_status():\n",
    "    global status\n",
    "    status = \"online\"\n",
    "    return status\n",
    "    print(toggle_status())\n",
    "    print(\"Current status:\", status)"
   ]
  },
  {
   "cell_type": "code",
   "execution_count": null,
   "id": "2508ff8f-4414-45d3-a5db-f1150a079583",
   "metadata": {},
   "outputs": [],
   "source": []
  },
  {
   "cell_type": "code",
   "execution_count": null,
   "id": "e9e9965a-717b-43ba-951f-0b2d0557feb6",
   "metadata": {},
   "outputs": [],
   "source": []
  }
 ],
 "metadata": {
  "kernelspec": {
   "display_name": "Python 3 (ipykernel)",
   "language": "python",
   "name": "python3"
  },
  "language_info": {
   "codemirror_mode": {
    "name": "ipython",
    "version": 3
   },
   "file_extension": ".py",
   "mimetype": "text/x-python",
   "name": "python",
   "nbconvert_exporter": "python",
   "pygments_lexer": "ipython3",
   "version": "3.13.5"
  }
 },
 "nbformat": 4,
 "nbformat_minor": 5
}
